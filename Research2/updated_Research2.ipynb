{
 "cells": [
  {
   "cell_type": "code",
   "execution_count": 1,
   "metadata": {},
   "outputs": [],
   "source": [
    "import pandas as pd\n"
   ]
  },
  {
   "cell_type": "code",
   "execution_count": 8,
   "metadata": {},
   "outputs": [],
   "source": [
    "inputToRead = \"C:/Users/RyanBaldwin/Fabio_Undergrad_Research/ETL1-Pipeline/data/inputs/new2/master_all_jabref.csv\""
   ]
  },
  {
   "cell_type": "code",
   "execution_count": 3,
   "metadata": {},
   "outputs": [],
   "source": [
    "fileNameOutput = \"C:/Users/RyanBaldwin/Fabio_Undergrad_Research/ETL1-Pipeline/data/outputs/new2/dataframe_file_names.csv\"\n"
   ]
  },
  {
   "cell_type": "code",
   "execution_count": 4,
   "metadata": {},
   "outputs": [],
   "source": [
    "PR3_csv = \"C:/Users/RyanBaldwin/Fabio_Undergrad_Research/ETL1-Pipeline/data/outputs/new2/filesPR3BodyTitle2.csv\"\n"
   ]
  },
  {
   "cell_type": "code",
   "execution_count": 10,
   "metadata": {},
   "outputs": [],
   "source": [
    "authorFilePath = pd.read_csv(inputToRead, low_memory=False)\n"
   ]
  },
  {
   "cell_type": "code",
   "execution_count": 5,
   "metadata": {},
   "outputs": [],
   "source": [
    "PR3_txt = \"C:/Users/RyanBaldwin/Fabio_Undergrad_Research/ETL1-Pipeline/data/outputs/new2/filesPR3BodyTitle2.txt\"\n"
   ]
  },
  {
   "cell_type": "code",
   "execution_count": 12,
   "metadata": {},
   "outputs": [
    {
     "data": {
      "text/html": [
       "<div>\n",
       "<style scoped>\n",
       "    .dataframe tbody tr th:only-of-type {\n",
       "        vertical-align: middle;\n",
       "    }\n",
       "\n",
       "    .dataframe tbody tr th {\n",
       "        vertical-align: top;\n",
       "    }\n",
       "\n",
       "    .dataframe thead th {\n",
       "        text-align: right;\n",
       "    }\n",
       "</style>\n",
       "<table border=\"1\" class=\"dataframe\">\n",
       "  <thead>\n",
       "    <tr style=\"text-align: right;\">\n",
       "      <th></th>\n",
       "      <th>type</th>\n",
       "      <th>issue_number</th>\n",
       "      <th>title</th>\n",
       "      <th>author_name</th>\n",
       "      <th>author_login</th>\n",
       "      <th>created_at</th>\n",
       "      <th>body</th>\n",
       "      <th>first_comment_body</th>\n",
       "      <th>committer_name</th>\n",
       "      <th>sha</th>\n",
       "      <th>files</th>\n",
       "      <th>patch_text</th>\n",
       "      <th>additions</th>\n",
       "      <th>deletions</th>\n",
       "      <th>status</th>\n",
       "      <th>total_changes</th>\n",
       "    </tr>\n",
       "  </thead>\n",
       "  <tbody>\n",
       "    <tr>\n",
       "      <th>0</th>\n",
       "      <td>pull_request</td>\n",
       "      <td>1</td>\n",
       "      <td>New Sorting/Export preferences</td>\n",
       "      <td>Igor Steinmacher</td>\n",
       "      <td>olenz</td>\n",
       "      <td>2014-03-12T09:26:29Z</td>\n",
       "      <td>This will add a new \"File Sorting\" Tab to the ...</td>\n",
       "      <td>NaN</td>\n",
       "      <td>Igor Steinmacher</td>\n",
       "      <td>a41477a3bf833b5e7eb4036cdbc7ff0d31f3715e</td>\n",
       "      <td>src/java/net/sf/jabref/BibtexFields.java;src/j...</td>\n",
       "      <td>@@ -434,6 +434,19 @@ public static String[] ge...</td>\n",
       "      <td>15.0</td>\n",
       "      <td>1.0</td>\n",
       "      <td>modified;modified</td>\n",
       "      <td>16.0</td>\n",
       "    </tr>\n",
       "    <tr>\n",
       "      <th>1</th>\n",
       "      <td>pull_request</td>\n",
       "      <td>1</td>\n",
       "      <td>New Sorting/Export preferences</td>\n",
       "      <td>Igor Steinmacher</td>\n",
       "      <td>olenz</td>\n",
       "      <td>2014-03-12T09:26:29Z</td>\n",
       "      <td>This will add a new \"File Sorting\" Tab to the ...</td>\n",
       "      <td>NaN</td>\n",
       "      <td>Igor Steinmacher</td>\n",
       "      <td>20d08479a8aacac1b672a45aed1db09f0e015f96</td>\n",
       "      <td>src/resource/JabRef_pt_BR.properties;src/resou...</td>\n",
       "      <td>@@ -1,5 +1,5 @@\\n #!\\r\\n-#! created/edited by ...</td>\n",
       "      <td>93.0</td>\n",
       "      <td>93.0</td>\n",
       "      <td>modified;modified</td>\n",
       "      <td>186.0</td>\n",
       "    </tr>\n",
       "    <tr>\n",
       "      <th>2</th>\n",
       "      <td>pull_request</td>\n",
       "      <td>1</td>\n",
       "      <td>New Sorting/Export preferences</td>\n",
       "      <td>Igor Steinmacher</td>\n",
       "      <td>olenz</td>\n",
       "      <td>2014-03-12T09:26:29Z</td>\n",
       "      <td>This will add a new \"File Sorting\" Tab to the ...</td>\n",
       "      <td>NaN</td>\n",
       "      <td>Igor Steinmacher</td>\n",
       "      <td>0e365df01223ee8bac4bce8a7063065473550848</td>\n",
       "      <td>src/resource/JabRef_pt_BR.properties</td>\n",
       "      <td>@@ -1322,7 +1322,7 @@ This_feature_generates_a...</td>\n",
       "      <td>147.0</td>\n",
       "      <td>147.0</td>\n",
       "      <td>modified</td>\n",
       "      <td>294.0</td>\n",
       "    </tr>\n",
       "    <tr>\n",
       "      <th>3</th>\n",
       "      <td>pull_request</td>\n",
       "      <td>1</td>\n",
       "      <td>New Sorting/Export preferences</td>\n",
       "      <td>Oliver Kopp</td>\n",
       "      <td>olenz</td>\n",
       "      <td>2014-03-12T09:26:29Z</td>\n",
       "      <td>This will add a new \"File Sorting\" Tab to the ...</td>\n",
       "      <td>NaN</td>\n",
       "      <td>Oliver Kopp</td>\n",
       "      <td>929f3ff8c0949cfc74740e153c54b139b20a1812</td>\n",
       "      <td>src/txt/CHANGELOG</td>\n",
       "      <td>@@ -3,6 +3,7 @@\\n     - Fixed completeness ind...</td>\n",
       "      <td>1.0</td>\n",
       "      <td>0.0</td>\n",
       "      <td>modified</td>\n",
       "      <td>1.0</td>\n",
       "    </tr>\n",
       "    <tr>\n",
       "      <th>4</th>\n",
       "      <td>pull_request</td>\n",
       "      <td>1</td>\n",
       "      <td>New Sorting/Export preferences</td>\n",
       "      <td>Oliver Kopp</td>\n",
       "      <td>olenz</td>\n",
       "      <td>2014-03-12T09:26:29Z</td>\n",
       "      <td>This will add a new \"File Sorting\" Tab to the ...</td>\n",
       "      <td>NaN</td>\n",
       "      <td>Oliver Kopp</td>\n",
       "      <td>f87c07c35bed11351695142fe98720bbd57cbd88</td>\n",
       "      <td>src/java/net/sf/jabref/sql/SQLUtil.java</td>\n",
       "      <td>@@ -27,7 +27,6 @@\\n import java.util.ListItera...</td>\n",
       "      <td>1.0</td>\n",
       "      <td>2.0</td>\n",
       "      <td>modified</td>\n",
       "      <td>3.0</td>\n",
       "    </tr>\n",
       "  </tbody>\n",
       "</table>\n",
       "</div>"
      ],
      "text/plain": [
       "           type  issue_number                           title  \\\n",
       "0  pull_request             1  New Sorting/Export preferences   \n",
       "1  pull_request             1  New Sorting/Export preferences   \n",
       "2  pull_request             1  New Sorting/Export preferences   \n",
       "3  pull_request             1  New Sorting/Export preferences   \n",
       "4  pull_request             1  New Sorting/Export preferences   \n",
       "\n",
       "        author_name author_login            created_at  \\\n",
       "0  Igor Steinmacher        olenz  2014-03-12T09:26:29Z   \n",
       "1  Igor Steinmacher        olenz  2014-03-12T09:26:29Z   \n",
       "2  Igor Steinmacher        olenz  2014-03-12T09:26:29Z   \n",
       "3       Oliver Kopp        olenz  2014-03-12T09:26:29Z   \n",
       "4       Oliver Kopp        olenz  2014-03-12T09:26:29Z   \n",
       "\n",
       "                                                body first_comment_body  \\\n",
       "0  This will add a new \"File Sorting\" Tab to the ...                NaN   \n",
       "1  This will add a new \"File Sorting\" Tab to the ...                NaN   \n",
       "2  This will add a new \"File Sorting\" Tab to the ...                NaN   \n",
       "3  This will add a new \"File Sorting\" Tab to the ...                NaN   \n",
       "4  This will add a new \"File Sorting\" Tab to the ...                NaN   \n",
       "\n",
       "     committer_name                                       sha  \\\n",
       "0  Igor Steinmacher  a41477a3bf833b5e7eb4036cdbc7ff0d31f3715e   \n",
       "1  Igor Steinmacher  20d08479a8aacac1b672a45aed1db09f0e015f96   \n",
       "2  Igor Steinmacher  0e365df01223ee8bac4bce8a7063065473550848   \n",
       "3       Oliver Kopp  929f3ff8c0949cfc74740e153c54b139b20a1812   \n",
       "4       Oliver Kopp  f87c07c35bed11351695142fe98720bbd57cbd88   \n",
       "\n",
       "                                               files  \\\n",
       "0  src/java/net/sf/jabref/BibtexFields.java;src/j...   \n",
       "1  src/resource/JabRef_pt_BR.properties;src/resou...   \n",
       "2               src/resource/JabRef_pt_BR.properties   \n",
       "3                                  src/txt/CHANGELOG   \n",
       "4            src/java/net/sf/jabref/sql/SQLUtil.java   \n",
       "\n",
       "                                          patch_text  additions  deletions  \\\n",
       "0  @@ -434,6 +434,19 @@ public static String[] ge...       15.0        1.0   \n",
       "1  @@ -1,5 +1,5 @@\\n #!\\r\\n-#! created/edited by ...       93.0       93.0   \n",
       "2  @@ -1322,7 +1322,7 @@ This_feature_generates_a...      147.0      147.0   \n",
       "3  @@ -3,6 +3,7 @@\\n     - Fixed completeness ind...        1.0        0.0   \n",
       "4  @@ -27,7 +27,6 @@\\n import java.util.ListItera...        1.0        2.0   \n",
       "\n",
       "              status  total_changes  \n",
       "0  modified;modified           16.0  \n",
       "1  modified;modified          186.0  \n",
       "2           modified          294.0  \n",
       "3           modified            1.0  \n",
       "4           modified            3.0  "
      ]
     },
     "execution_count": 12,
     "metadata": {},
     "output_type": "execute_result"
    }
   ],
   "source": [
    "authorFilePath.head()"
   ]
  },
  {
   "cell_type": "code",
   "execution_count": 13,
   "metadata": {},
   "outputs": [
    {
     "data": {
      "text/plain": [
       "(52968, 16)"
      ]
     },
     "execution_count": 13,
     "metadata": {},
     "output_type": "execute_result"
    }
   ],
   "source": [
    "authorFilePath.shape\n"
   ]
  },
  {
   "cell_type": "code",
   "execution_count": 14,
   "metadata": {},
   "outputs": [
    {
     "data": {
      "text/plain": [
       "RangeIndex(start=0, stop=52968, step=1)"
      ]
     },
     "execution_count": 14,
     "metadata": {},
     "output_type": "execute_result"
    }
   ],
   "source": [
    "authorFilePath.index\n"
   ]
  },
  {
   "cell_type": "code",
   "execution_count": 15,
   "metadata": {},
   "outputs": [
    {
     "data": {
      "text/plain": [
       "Index(['type', 'issue_number', 'title', 'author_name', 'author_login',\n",
       "       'created_at', 'body', 'first_comment_body', 'committer_name', 'sha',\n",
       "       'files', 'patch_text', 'additions', 'deletions', 'status',\n",
       "       'total_changes'],\n",
       "      dtype='object')"
      ]
     },
     "execution_count": 15,
     "metadata": {},
     "output_type": "execute_result"
    }
   ],
   "source": [
    "authorFilePath.columns\n"
   ]
  },
  {
   "cell_type": "code",
   "execution_count": 16,
   "metadata": {},
   "outputs": [
    {
     "data": {
      "text/plain": [
       "type                   object\n",
       "issue_number            int64\n",
       "title                  object\n",
       "author_name            object\n",
       "author_login           object\n",
       "created_at             object\n",
       "body                   object\n",
       "first_comment_body     object\n",
       "committer_name         object\n",
       "sha                    object\n",
       "files                  object\n",
       "patch_text             object\n",
       "additions             float64\n",
       "deletions             float64\n",
       "status                 object\n",
       "total_changes         float64\n",
       "dtype: object"
      ]
     },
     "execution_count": 16,
     "metadata": {},
     "output_type": "execute_result"
    }
   ],
   "source": [
    "authorFilePath.dtypes\n"
   ]
  },
  {
   "cell_type": "code",
   "execution_count": 17,
   "metadata": {},
   "outputs": [],
   "source": [
    "authorFilePath2 = authorFilePath.copy()\n"
   ]
  },
  {
   "cell_type": "code",
   "execution_count": 18,
   "metadata": {},
   "outputs": [
    {
     "data": {
      "text/plain": [
       "Index(['type', 'issue_number', 'title', 'author_name', 'author_login',\n",
       "       'created_at', 'body', 'first_comment_body', 'committer_name', 'sha',\n",
       "       'files', 'patch_text', 'additions', 'deletions', 'status',\n",
       "       'total_changes'],\n",
       "      dtype='object')"
      ]
     },
     "execution_count": 18,
     "metadata": {},
     "output_type": "execute_result"
    }
   ],
   "source": [
    "authorFilePath2.columns\n"
   ]
  },
  {
   "cell_type": "code",
   "execution_count": 19,
   "metadata": {},
   "outputs": [
    {
     "data": {
      "text/plain": [
       "0     src/java/net/sf/jabref/BibtexFields.java;src/j...\n",
       "1     src/resource/JabRef_pt_BR.properties;src/resou...\n",
       "2                  src/resource/JabRef_pt_BR.properties\n",
       "3                                     src/txt/CHANGELOG\n",
       "4               src/java/net/sf/jabref/sql/SQLUtil.java\n",
       "5     src/resource/JabRef_ja.properties;src/resource...\n",
       "6     src/java/net/sf/jabref/BibtexFields.java;src/j...\n",
       "7                                                   NaN\n",
       "8     src/java/net/sf/jabref/imports/GoogleScholarFe...\n",
       "9            build.xml;src/txt/CHANGELOG;src/txt/README\n",
       "10    src/java/net/sf/jabref/imports/HTMLConverter.j...\n",
       "11    build.xml;src/java/net/sf/jabref/imports/Googl...\n",
       "12         src/txt/CHANGELOG;src/windows/nsis/setup.nsi\n",
       "13                        src/help/RevisionHistory.html\n",
       "14    README.md;build.xml;src/help/RevisionHistory.h...\n",
       "15    build.xml;src/help/RevisionHistory.html;src/im...\n",
       "16                                           .gitignore\n",
       "17                                            README.md\n",
       "18                                            README.md\n",
       "19    src/java/net/sf/jabref/FileSortTab.java;src/ja...\n",
       "20                                           .gitignore\n",
       "21    build-wrapper.xml;build.gradle;src/extensions/...\n",
       "22                    src/resource/JabRef_nl.properties\n",
       "23    src/resource/JabRef_da.properties;src/resource...\n",
       "24                    src/resource/JabRef_in.properties\n",
       "25                            src/images/splash-dev.svg\n",
       "26    src/main/java/net/sf/jabref/GUIGlobals.java;sr...\n",
       "27        src/main/java/net/sf/jabref/util/XMPUtil.java\n",
       "28        src/main/java/net/sf/jabref/util/XMPUtil.java\n",
       "29    src/main/java/net/sf/jabref/external/ACSPdfDow...\n",
       "30    src/main/java/net/sf/jabref/external/ACSPdfDow...\n",
       "Name: files, dtype: object"
      ]
     },
     "execution_count": 19,
     "metadata": {},
     "output_type": "execute_result"
    }
   ],
   "source": [
    "authorFilePath2.loc[0:30,\"files\"]"
   ]
  },
  {
   "cell_type": "code",
   "execution_count": 20,
   "metadata": {},
   "outputs": [],
   "source": [
    "file_names_without_brackets = authorFilePath2.files.str.replace(\"[\",\"\")"
   ]
  },
  {
   "cell_type": "code",
   "execution_count": 21,
   "metadata": {},
   "outputs": [],
   "source": [
    "file_names_without_quotes = file_names_without_brackets.str.replace(\"\\'\",\"\")"
   ]
  },
  {
   "cell_type": "code",
   "execution_count": 22,
   "metadata": {},
   "outputs": [
    {
     "data": {
      "text/plain": [
       "pandas.core.series.Series"
      ]
     },
     "execution_count": 22,
     "metadata": {},
     "output_type": "execute_result"
    }
   ],
   "source": [
    "type(file_names_without_brackets)"
   ]
  },
  {
   "cell_type": "code",
   "execution_count": 23,
   "metadata": {},
   "outputs": [],
   "source": [
    "file_names_without_brackets2 = file_names_without_quotes.str.replace(\"]\",\"\")"
   ]
  },
  {
   "cell_type": "code",
   "execution_count": 24,
   "metadata": {},
   "outputs": [
    {
     "data": {
      "text/plain": [
       "0    src/java/net/sf/jabref/BibtexFields.java;src/j...\n",
       "1    src/resource/JabRef_pt_BR.properties;src/resou...\n",
       "2                 src/resource/JabRef_pt_BR.properties\n",
       "3                                    src/txt/CHANGELOG\n",
       "4              src/java/net/sf/jabref/sql/SQLUtil.java\n",
       "Name: files, dtype: object"
      ]
     },
     "execution_count": 24,
     "metadata": {},
     "output_type": "execute_result"
    }
   ],
   "source": [
    "file_names_without_brackets2.head()"
   ]
  },
  {
   "cell_type": "code",
   "execution_count": 25,
   "metadata": {},
   "outputs": [],
   "source": [
    "authorFilePath[\"files\"] = file_names_without_brackets2"
   ]
  },
  {
   "cell_type": "code",
   "execution_count": 26,
   "metadata": {},
   "outputs": [],
   "source": [
    "dataframe_file_names = authorFilePath.files.str.split(\",\", expand=True)"
   ]
  },
  {
   "cell_type": "code",
   "execution_count": 27,
   "metadata": {},
   "outputs": [],
   "source": [
    "dataframe_file_names[\"pr\"] = authorFilePath[\"issue_number\"]"
   ]
  },
  {
   "cell_type": "code",
   "execution_count": 28,
   "metadata": {},
   "outputs": [
    {
     "data": {
      "text/plain": [
       "0    1\n",
       "1    1\n",
       "2    1\n",
       "3    1\n",
       "4    1\n",
       "Name: pr, dtype: int64"
      ]
     },
     "execution_count": 28,
     "metadata": {},
     "output_type": "execute_result"
    }
   ],
   "source": [
    "dataframe_file_names[\"pr\"].head()"
   ]
  },
  {
   "cell_type": "code",
   "execution_count": 29,
   "metadata": {},
   "outputs": [],
   "source": [
    "dataframe_file_names[\"title\"] = authorFilePath[\"title\"]"
   ]
  },
  {
   "cell_type": "code",
   "execution_count": 30,
   "metadata": {},
   "outputs": [
    {
     "data": {
      "text/plain": [
       "0    New Sorting/Export preferences\n",
       "1    New Sorting/Export preferences\n",
       "2    New Sorting/Export preferences\n",
       "3    New Sorting/Export preferences\n",
       "4    New Sorting/Export preferences\n",
       "Name: title, dtype: object"
      ]
     },
     "execution_count": 30,
     "metadata": {},
     "output_type": "execute_result"
    }
   ],
   "source": [
    "dataframe_file_names[\"title\"].head()"
   ]
  },
  {
   "cell_type": "code",
   "execution_count": 31,
   "metadata": {},
   "outputs": [],
   "source": [
    "dataframe_file_names[\"body\"] = authorFilePath[\"body\"] "
   ]
  },
  {
   "cell_type": "code",
   "execution_count": 32,
   "metadata": {},
   "outputs": [
    {
     "data": {
      "text/plain": [
       "0    This will add a new \"File Sorting\" Tab to the ...\n",
       "1    This will add a new \"File Sorting\" Tab to the ...\n",
       "2    This will add a new \"File Sorting\" Tab to the ...\n",
       "3    This will add a new \"File Sorting\" Tab to the ...\n",
       "4    This will add a new \"File Sorting\" Tab to the ...\n",
       "Name: body, dtype: object"
      ]
     },
     "execution_count": 32,
     "metadata": {},
     "output_type": "execute_result"
    }
   ],
   "source": [
    "dataframe_file_names[\"body\"].head()"
   ]
  },
  {
   "cell_type": "code",
   "execution_count": 33,
   "metadata": {},
   "outputs": [
    {
     "data": {
      "text/html": [
       "<div>\n",
       "<style scoped>\n",
       "    .dataframe tbody tr th:only-of-type {\n",
       "        vertical-align: middle;\n",
       "    }\n",
       "\n",
       "    .dataframe tbody tr th {\n",
       "        vertical-align: top;\n",
       "    }\n",
       "\n",
       "    .dataframe thead th {\n",
       "        text-align: right;\n",
       "    }\n",
       "</style>\n",
       "<table border=\"1\" class=\"dataframe\">\n",
       "  <thead>\n",
       "    <tr style=\"text-align: right;\">\n",
       "      <th></th>\n",
       "      <th>0</th>\n",
       "      <th>pr</th>\n",
       "      <th>title</th>\n",
       "      <th>body</th>\n",
       "    </tr>\n",
       "  </thead>\n",
       "  <tbody>\n",
       "    <tr>\n",
       "      <th>0</th>\n",
       "      <td>src/java/net/sf/jabref/BibtexFields.java;src/j...</td>\n",
       "      <td>1</td>\n",
       "      <td>New Sorting/Export preferences</td>\n",
       "      <td>This will add a new \"File Sorting\" Tab to the ...</td>\n",
       "    </tr>\n",
       "    <tr>\n",
       "      <th>1</th>\n",
       "      <td>src/resource/JabRef_pt_BR.properties;src/resou...</td>\n",
       "      <td>1</td>\n",
       "      <td>New Sorting/Export preferences</td>\n",
       "      <td>This will add a new \"File Sorting\" Tab to the ...</td>\n",
       "    </tr>\n",
       "    <tr>\n",
       "      <th>2</th>\n",
       "      <td>src/resource/JabRef_pt_BR.properties</td>\n",
       "      <td>1</td>\n",
       "      <td>New Sorting/Export preferences</td>\n",
       "      <td>This will add a new \"File Sorting\" Tab to the ...</td>\n",
       "    </tr>\n",
       "    <tr>\n",
       "      <th>3</th>\n",
       "      <td>src/txt/CHANGELOG</td>\n",
       "      <td>1</td>\n",
       "      <td>New Sorting/Export preferences</td>\n",
       "      <td>This will add a new \"File Sorting\" Tab to the ...</td>\n",
       "    </tr>\n",
       "    <tr>\n",
       "      <th>4</th>\n",
       "      <td>src/java/net/sf/jabref/sql/SQLUtil.java</td>\n",
       "      <td>1</td>\n",
       "      <td>New Sorting/Export preferences</td>\n",
       "      <td>This will add a new \"File Sorting\" Tab to the ...</td>\n",
       "    </tr>\n",
       "  </tbody>\n",
       "</table>\n",
       "</div>"
      ],
      "text/plain": [
       "                                                   0  pr  \\\n",
       "0  src/java/net/sf/jabref/BibtexFields.java;src/j...   1   \n",
       "1  src/resource/JabRef_pt_BR.properties;src/resou...   1   \n",
       "2               src/resource/JabRef_pt_BR.properties   1   \n",
       "3                                  src/txt/CHANGELOG   1   \n",
       "4            src/java/net/sf/jabref/sql/SQLUtil.java   1   \n",
       "\n",
       "                            title  \\\n",
       "0  New Sorting/Export preferences   \n",
       "1  New Sorting/Export preferences   \n",
       "2  New Sorting/Export preferences   \n",
       "3  New Sorting/Export preferences   \n",
       "4  New Sorting/Export preferences   \n",
       "\n",
       "                                                body  \n",
       "0  This will add a new \"File Sorting\" Tab to the ...  \n",
       "1  This will add a new \"File Sorting\" Tab to the ...  \n",
       "2  This will add a new \"File Sorting\" Tab to the ...  \n",
       "3  This will add a new \"File Sorting\" Tab to the ...  \n",
       "4  This will add a new \"File Sorting\" Tab to the ...  "
      ]
     },
     "execution_count": 33,
     "metadata": {},
     "output_type": "execute_result"
    }
   ],
   "source": [
    "dataframe_file_names.head()"
   ]
  },
  {
   "cell_type": "code",
   "execution_count": 34,
   "metadata": {},
   "outputs": [],
   "source": [
    "dataframe_file_names.to_csv( fileNameOutput, encoding='utf-8', index=False)\n",
    "            "
   ]
  },
  {
   "cell_type": "code",
   "execution_count": 35,
   "metadata": {},
   "outputs": [],
   "source": [
    "files_list2 = []\n",
    "def filter_java2(lines):\n",
    " \n",
    "    for i, v in lines.items():\n",
    "        pr = lines[\"pr\"]\n",
    "        print(\"Lines:\",i, lines[\"pr\"])\n",
    "        if v is not None:\n",
    "            if type(v) == str:\n",
    "        \n",
    "                if (v.find('.java') != -1): \n",
    "                    print(\"java:\",v)\n",
    "                    dict1 = {}\n",
    "                    # get input row in dictionary format\n",
    "                    # key = col_name\n",
    "                    d = {pr:v}\n",
    "                    dict1.update(d) \n",
    "\n",
    "                    files_list2.append(dict1)\n",
    "                else:\n",
    "                    print(\"not a java file:\",v, \"idx\", i)\n",
    "            else:\n",
    "                print(\"not a String:\", v, \"idx\", i)\n",
    "        else:\n",
    "            print(\"None:\", v, \"idx\", i)\n",
    "    df_fn_filtered = pd.DataFrame(files_list)\n",
    "\n",
    "        \n",
    "        "
   ]
  },
  {
   "cell_type": "code",
   "execution_count": 37,
   "metadata": {},
   "outputs": [],
   "source": [
    "files_list = []\n",
    "def filter_java0(lines):\n",
    " \n",
    "    for i, v in lines.items():\n",
    "        #pr = lines[\"pr\"]\n",
    "        #print(\"Lines:\",i, lines[\"pr\"])\n",
    "        if v is not None:\n",
    "            if type(v) == str:\n",
    "        \n",
    "                if (v.find('.java') != -1): \n",
    "                    print(\"java:\",v)\n",
    "                    dict1 = {}\n",
    "                    # get input row in dictionary format\n",
    "                    # key = col_name\n",
    "                    d = {i:v}\n",
    "                    dict1.update(d) \n",
    "\n",
    "                    files_list.append(dict1)\n",
    "                else:\n",
    "                    print(\"not a java file:\",v, \"idx\", i)\n",
    "            else:\n",
    "                print(\"not a String:\", v, \"idx\", i)\n",
    "        else:\n",
    "            print(\"None:\", v, \"idx\", i)"
   ]
  },
  {
   "cell_type": "code",
   "execution_count": 38,
   "metadata": {},
   "outputs": [
    {
     "data": {
      "text/plain": [
       "0        src/java/net/sf/jabref/BibtexFields.java;src/j...\n",
       "pr                                                       1\n",
       "title                       New Sorting/Export preferences\n",
       "body     This will add a new \"File Sorting\" Tab to the ...\n",
       "Name: 0, dtype: object"
      ]
     },
     "execution_count": 38,
     "metadata": {},
     "output_type": "execute_result"
    }
   ],
   "source": [
    "dataframe_file_names.loc[0,:]    "
   ]
  },
  {
   "cell_type": "code",
   "execution_count": 39,
   "metadata": {},
   "outputs": [
    {
     "data": {
      "text/plain": [
       "pandas.core.frame.DataFrame"
      ]
     },
     "execution_count": 39,
     "metadata": {},
     "output_type": "execute_result"
    }
   ],
   "source": [
    "type(dataframe_file_names.loc[:,:])"
   ]
  },
  {
   "cell_type": "code",
   "execution_count": 40,
   "metadata": {},
   "outputs": [
    {
     "name": "stdout",
     "output_type": "stream",
     "text": [
      "0\n",
      "pr\n",
      "title\n",
      "body\n"
     ]
    }
   ],
   "source": [
    "for row in dataframe_file_names:\n",
    "    print (row)\n",
    "    \n",
    "    "
   ]
  },
  {
   "cell_type": "code",
   "execution_count": 41,
   "metadata": {},
   "outputs": [],
   "source": [
    "files_list3 = []\n",
    "\n",
    "def filter_java3(lines):\n",
    " \n",
    "    for i, v in lines.items():\n",
    "        \n",
    "        pr = lines[\"pr\"]\n",
    "        \n",
    "        #v = lines[\"java\"]\n",
    "        \n",
    "        body = str(lines[\"body\"])\n",
    "        #type(body)\n",
    "        #print(body)\n",
    "        body = body.replace(\"\\n\", \" \")\n",
    "        body = body.replace(\"\\\"\", \" \")\n",
    "        body = body.replace(\"\\'\", \" \")\n",
    "        body = body.replace(\"`\", \" \")\n",
    "        body = body.replace(\";\", \" \")\n",
    "        body = body.replace(\",\", \" \")\n",
    "        \n",
    "        title = lines[\"title\"]\n",
    "        title = title.replace(\"\\n\", \" \")\n",
    "        title = title.replace(\"\\\"\", \" \")\n",
    "        title = title.replace(\"\\'\", \" \")\n",
    "        title = title.replace(\"`\", \" \")\n",
    "        title = title.replace(\";\", \" \")\n",
    "        title = title.replace(\",\", \" \")\n",
    "        #print(\"Lines:\",i, lines[\"pr\"])\n",
    "        if v is not None:\n",
    "            if type(v) == str:\n",
    "                if i == \"pr\" or i == \"body\" or i == \"title\":\n",
    "                    pass\n",
    "                else:\n",
    "                    if (v.find('.java') != -1): \n",
    "                        #print(\"write pr:\", pr,\" java:\",v)\n",
    "\n",
    "                        #dict1 = {}\n",
    "                        # get input row in dictionary format\n",
    "                        # key = col_name\n",
    "                        #d = {pr:v}\n",
    "                        #dict1.update(d) \n",
    "\n",
    "                        #files_list3.append(dict1)\n",
    "                        data = pr,\";\",v,\";\",title,\";\",body\n",
    "                        files_list3.append(data)\n",
    "                    #else:\n",
    "                        #print(\"not a java file:\",v, \" idx\", i)\n",
    "            #else:\n",
    "                #print(\"not a String:\", v, \" idx\", i)\n",
    "        #else:\n",
    "            #print(\"None:\", v, \" idx\", i)\n",
    "    "
   ]
  },
  {
   "cell_type": "code",
   "execution_count": 55,
   "metadata": {},
   "outputs": [
    {
     "data": {
      "text/plain": [
       "0        None\n",
       "1        None\n",
       "2        None\n",
       "3        None\n",
       "4        None\n",
       "         ... \n",
       "52963    None\n",
       "52964    None\n",
       "52965    None\n",
       "52966    None\n",
       "52967    None\n",
       "Length: 52968, dtype: object"
      ]
     },
     "execution_count": 55,
     "metadata": {},
     "output_type": "execute_result"
    }
   ],
   "source": [
    "dataframe_file_names.apply(filter_java3, axis=1)"
   ]
  },
  {
   "cell_type": "code",
   "execution_count": 56,
   "metadata": {},
   "outputs": [],
   "source": [
    "df_fn_filtered3 = pd.DataFrame(files_list3)"
   ]
  },
  {
   "cell_type": "code",
   "execution_count": 57,
   "metadata": {},
   "outputs": [],
   "source": [
    "files_list3 = []"
   ]
  },
  {
   "cell_type": "code",
   "execution_count": 58,
   "metadata": {},
   "outputs": [],
   "source": [
    "pd.set_option('display.width', 30000)\n",
    "pd.set_option('display.max_columns', 1000)\n",
    "pd.set_option('display.max_colwidth', 1000)"
   ]
  },
  {
   "cell_type": "code",
   "execution_count": 59,
   "metadata": {},
   "outputs": [
    {
     "data": {
      "text/plain": [
       "0                                                                                                                                                                                                                                                                                                                                                                                                                                                                                                                                                                                                                                                                                                                                                                                                                                 This will add a new  File Sorting  Tab to the preferences that allows to exactly specify the sort and export order of entries  rather than the rather limited set of choices that were available to date.\\n\n",
       "1                                                                                                                                                                                                                                                                                                                                                                                                                                                                                                                                                                                                                                                                                                                                                                                                                                 This will add a new  File Sorting  Tab to the preferences that allows to exactly specify the sort and export order of entries  rather than the rather limited set of choices that were available to date.\\n\n",
       "2                                                                                                                                                                                                                                                                                                                                                                                                                                                                                                                                                                                                                                                                                                                                                                                                                                 This will add a new  File Sorting  Tab to the preferences that allows to exactly specify the sort and export order of entries  rather than the rather limited set of choices that were available to date.\\n\n",
       "3                                                                                                                                                                                                                                                                                                                                                                                                                                                                                                                                                                                                                                                                                                                                                                                                                                 This will add a new  File Sorting  Tab to the preferences that allows to exactly specify the sort and export order of entries  rather than the rather limited set of choices that were available to date.\\n\n",
       "4                                                                                                                                                                                                                                                                                                                                                                                                                                                                                                                                                                                                                                                                                                                                                                                                                                 This will add a new  File Sorting  Tab to the preferences that allows to exactly specify the sort and export order of entries  rather than the rather limited set of choices that were available to date.\\n\n",
       "5                                                                                                                                                                                                                                                                                                                                                                                                                                                                                                                                                                                                                                                                                                                                                                                                                                 This will add a new  File Sorting  Tab to the preferences that allows to exactly specify the sort and export order of entries  rather than the rather limited set of choices that were available to date.\\n\n",
       "6                                                                                                                                                                                                                                                                                                                                                                                                                                                                                                                                                                                                                                                                                                                                                                                                                                 This will add a new  File Sorting  Tab to the preferences that allows to exactly specify the sort and export order of entries  rather than the rather limited set of choices that were available to date.\\n\n",
       "7                                                                                                                                                                                                                                                                                                                                                                                                                                                                                                                                                                                                                                                                                                                                                                                                                                 This will add a new  File Sorting  Tab to the preferences that allows to exactly specify the sort and export order of entries  rather than the rather limited set of choices that were available to date.\\n\n",
       "8                                                                                                                                                                                                                                                                                                                                                                                                                                                                                                                                                                                                                                                                                                                                                                                                                                              This adds basic gradle integration. The project files for Intellij and Eclipse can be generated and JabRef can be started from within the IDEs as well as the tests can be run with errors. \\n\n",
       "9                                             \\nThe user can now specify an arbitrary number of file-link columns in te  Entry table columns  preferences tab  to be added to the main table. The user can any file types specified in the list of External File Types. The extra columns work exactly like the original file-link column.\\n\\nFor each file-link column whenever there are multiple files  the letter  m  is displayed at the bottom right corner of the icon.\\n   \\n\\n Committer: noravanq\\n\\n On branch master\\n Changes to be committed:\\n   (use  git reset HEAD <file>...  to unstage)\\n\\n   \\nmodified:   src/main/java/net/sf/jabref/GUIGlobals.java\\nmodified:   src/main/java/net/sf/jabref/JabRefPreferences.java\\nmodified:   src/main/java/net/sf/jabref/TableColumnsTab.java\\nmodified:   src/main/java/net/sf/jabref/gui/MainTableFormat.java\\nmodified:   src/main/java/net/sf/jabref/gui/MainTableSelectionListener.java\\nmodified:   src/main/java/net/sf/jabref/gui/PreventDraggingJTableHeader.java\\n   \\n\n",
       "10    This pull-request pertains to the addition of metadata to PDF files associated with entries  as triggered by the menu entry  Write XMP metadata to PDFs  in the  Tools  menu. XMP is an extremely interesting feature that allows tagging PDF files (amongst others) with automatically retrievable metadata in much the same way mp3-tags allow adding title/author/... information to mp3 music files. Actually JabRef exports the metadata not only to two XMP namespaces (Dublin Core and a custom JabRef namespace)  but also to the PDF DocumentInformation Object.\\n\\nPractically from the beginning of the XMP-writing capabilities of JabRef  Christopher Oezbek had added _privacy filtering_ for the XMP-tagging of PDF-files with data from the bibtex-record  meaning that the user could define a list of fields (in Preferences->XMP metadata) which should _not_ be exported to the PDF file.  Unfortunately  the filtering was incomplete: jabref exports the metadata in three different forms  only one of which ...\n",
       "Name: 6, dtype: object"
      ]
     },
     "execution_count": 59,
     "metadata": {},
     "output_type": "execute_result"
    }
   ],
   "source": [
    "df_fn_filtered3.loc[0:10,6]\n"
   ]
  },
  {
   "cell_type": "code",
   "execution_count": 47,
   "metadata": {},
   "outputs": [
    {
     "data": {
      "text/plain": [
       "0"
      ]
     },
     "execution_count": 47,
     "metadata": {},
     "output_type": "execute_result"
    }
   ],
   "source": [
    "import gc\n",
    "gc.collect()"
   ]
  },
  {
   "cell_type": "code",
   "execution_count": 60,
   "metadata": {},
   "outputs": [
    {
     "data": {
      "text/html": [
       "<div>\n",
       "<style scoped>\n",
       "    .dataframe tbody tr th:only-of-type {\n",
       "        vertical-align: middle;\n",
       "    }\n",
       "\n",
       "    .dataframe tbody tr th {\n",
       "        vertical-align: top;\n",
       "    }\n",
       "\n",
       "    .dataframe thead th {\n",
       "        text-align: right;\n",
       "    }\n",
       "</style>\n",
       "<table border=\"1\" class=\"dataframe\">\n",
       "  <thead>\n",
       "    <tr style=\"text-align: right;\">\n",
       "      <th></th>\n",
       "      <th>0</th>\n",
       "      <th>1</th>\n",
       "      <th>2</th>\n",
       "      <th>3</th>\n",
       "      <th>4</th>\n",
       "      <th>5</th>\n",
       "      <th>6</th>\n",
       "    </tr>\n",
       "  </thead>\n",
       "  <tbody>\n",
       "    <tr>\n",
       "      <th>0</th>\n",
       "      <td>1</td>\n",
       "      <td>;</td>\n",
       "      <td>src/java/net/sf/jabref/BibtexFields.java;src/java/net/sf/jabref/sql/SQLUtil.java</td>\n",
       "      <td>;</td>\n",
       "      <td>New Sorting/Export preferences</td>\n",
       "      <td>;</td>\n",
       "      <td>This will add a new  File Sorting  Tab to the preferences that allows to exactly specify the sort and export order of entries  rather than the rather limited set of choices that were available to date.\\n</td>\n",
       "    </tr>\n",
       "    <tr>\n",
       "      <th>1</th>\n",
       "      <td>1</td>\n",
       "      <td>;</td>\n",
       "      <td>src/java/net/sf/jabref/sql/SQLUtil.java</td>\n",
       "      <td>;</td>\n",
       "      <td>New Sorting/Export preferences</td>\n",
       "      <td>;</td>\n",
       "      <td>This will add a new  File Sorting  Tab to the preferences that allows to exactly specify the sort and export order of entries  rather than the rather limited set of choices that were available to date.\\n</td>\n",
       "    </tr>\n",
       "    <tr>\n",
       "      <th>2</th>\n",
       "      <td>1</td>\n",
       "      <td>;</td>\n",
       "      <td>src/java/net/sf/jabref/BibtexFields.java;src/java/net/sf/jabref/sql/SQLUtil.java;src/resource/JabRef_ja.properties;src/resource/JabRef_pt_BR.properties;src/resource/Menu_ja.properties;src/resource/Menu_pt_BR.properties;src/txt/CHANGELOG</td>\n",
       "      <td>;</td>\n",
       "      <td>New Sorting/Export preferences</td>\n",
       "      <td>;</td>\n",
       "      <td>This will add a new  File Sorting  Tab to the preferences that allows to exactly specify the sort and export order of entries  rather than the rather limited set of choices that were available to date.\\n</td>\n",
       "    </tr>\n",
       "    <tr>\n",
       "      <th>3</th>\n",
       "      <td>1</td>\n",
       "      <td>;</td>\n",
       "      <td>src/java/net/sf/jabref/imports/GoogleScholarFetcher.java</td>\n",
       "      <td>;</td>\n",
       "      <td>New Sorting/Export preferences</td>\n",
       "      <td>;</td>\n",
       "      <td>This will add a new  File Sorting  Tab to the preferences that allows to exactly specify the sort and export order of entries  rather than the rather limited set of choices that were available to date.\\n</td>\n",
       "    </tr>\n",
       "    <tr>\n",
       "      <th>4</th>\n",
       "      <td>1</td>\n",
       "      <td>;</td>\n",
       "      <td>src/java/net/sf/jabref/imports/HTMLConverter.java;src/java/net/sf/jabref/imports/IEEEXploreFetcher.java;src/txt/CHANGELOG</td>\n",
       "      <td>;</td>\n",
       "      <td>New Sorting/Export preferences</td>\n",
       "      <td>;</td>\n",
       "      <td>This will add a new  File Sorting  Tab to the preferences that allows to exactly specify the sort and export order of entries  rather than the rather limited set of choices that were available to date.\\n</td>\n",
       "    </tr>\n",
       "  </tbody>\n",
       "</table>\n",
       "</div>"
      ],
      "text/plain": [
       "   0  1                                                                                                                                                                                                                                             2  3                               4  5                                                                                                                                                                                                            6\n",
       "0  1  ;                                                                                                                                                              src/java/net/sf/jabref/BibtexFields.java;src/java/net/sf/jabref/sql/SQLUtil.java  ;  New Sorting/Export preferences  ;  This will add a new  File Sorting  Tab to the preferences that allows to exactly specify the sort and export order of entries  rather than the rather limited set of choices that were available to date.\\n\n",
       "1  1  ;                                                                                                                                                                                                       src/java/net/sf/jabref/sql/SQLUtil.java  ;  New Sorting/Export preferences  ;  This will add a new  File Sorting  Tab to the preferences that allows to exactly specify the sort and export order of entries  rather than the rather limited set of choices that were available to date.\\n\n",
       "2  1  ;  src/java/net/sf/jabref/BibtexFields.java;src/java/net/sf/jabref/sql/SQLUtil.java;src/resource/JabRef_ja.properties;src/resource/JabRef_pt_BR.properties;src/resource/Menu_ja.properties;src/resource/Menu_pt_BR.properties;src/txt/CHANGELOG  ;  New Sorting/Export preferences  ;  This will add a new  File Sorting  Tab to the preferences that allows to exactly specify the sort and export order of entries  rather than the rather limited set of choices that were available to date.\\n\n",
       "3  1  ;                                                                                                                                                                                      src/java/net/sf/jabref/imports/GoogleScholarFetcher.java  ;  New Sorting/Export preferences  ;  This will add a new  File Sorting  Tab to the preferences that allows to exactly specify the sort and export order of entries  rather than the rather limited set of choices that were available to date.\\n\n",
       "4  1  ;                                                                                                                     src/java/net/sf/jabref/imports/HTMLConverter.java;src/java/net/sf/jabref/imports/IEEEXploreFetcher.java;src/txt/CHANGELOG  ;  New Sorting/Export preferences  ;  This will add a new  File Sorting  Tab to the preferences that allows to exactly specify the sort and export order of entries  rather than the rather limited set of choices that were available to date.\\n"
      ]
     },
     "execution_count": 60,
     "metadata": {},
     "output_type": "execute_result"
    }
   ],
   "source": [
    "df_fn_filtered3.head()"
   ]
  },
  {
   "cell_type": "code",
   "execution_count": 61,
   "metadata": {},
   "outputs": [],
   "source": [
    "df_fn_filtered3.to_csv( PR3_csv, encoding='utf-8', header=False, index=False, sep='\\t')"
   ]
  },
  {
   "cell_type": "code",
   "execution_count": 67,
   "metadata": {},
   "outputs": [],
   "source": [
    "import numpy as np\n",
    "with open(PR3_txt, 'w', encoding='utf-8') as f:\n",
    "    np.savetxt(f, df_fn_filtered3.values, fmt='%s', delimiter=' ')"
   ]
  },
  {
   "cell_type": "code",
   "execution_count": 68,
   "metadata": {},
   "outputs": [],
   "source": [
    "del df_fn_filtered3"
   ]
  }
 ],
 "metadata": {
  "kernelspec": {
   "display_name": "Python 3 (ipykernel)",
   "language": "python",
   "name": "python3"
  },
  "language_info": {
   "codemirror_mode": {
    "name": "ipython",
    "version": 3
   },
   "file_extension": ".py",
   "mimetype": "text/x-python",
   "name": "python",
   "nbconvert_exporter": "python",
   "pygments_lexer": "ipython3",
   "version": "3.11.5"
  }
 },
 "nbformat": 4,
 "nbformat_minor": 2
}
